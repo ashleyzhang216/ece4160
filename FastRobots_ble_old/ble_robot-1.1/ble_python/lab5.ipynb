{
 "cells": [
  {
   "cell_type": "code",
   "execution_count": 103,
   "id": "c397a05c-8dc2-4eab-8f7e-8a0bb7f10d6a",
   "metadata": {},
   "outputs": [
    {
     "name": "stdout",
     "output_type": "stream",
     "text": [
      "The autoreload extension is already loaded. To reload it, use:\n",
      "  %reload_ext autoreload\n"
     ]
    }
   ],
   "source": [
    "%load_ext autoreload\n",
    "%autoreload 2\n",
    "\n",
    "from ble import get_ble_controller\n",
    "from base_ble import LOG\n",
    "from cmd_types import CMD\n",
    "import time\n",
    "import numpy as np\n",
    "import matplotlib.pyplot as plt\n",
    "\n",
    "LOG.propagate = False"
   ]
  },
  {
   "cell_type": "code",
   "execution_count": null,
   "id": "d0856bad-fed1-4673-aa01-ccecff91a20b",
   "metadata": {},
   "outputs": [],
   "source": [
    "LOG.debug(\"debug\")\n",
    "LOG.info(\"info\")\n",
    "LOG.warning(\"warning\")\n",
    "LOG.error(\"error\")\n",
    "LOG.critical(\"critical\")"
   ]
  },
  {
   "cell_type": "code",
   "execution_count": 748,
   "id": "13cb62e6-5ac5-4084-be5e-1277420888cf",
   "metadata": {},
   "outputs": [
    {
     "name": "stdout",
     "output_type": "stream",
     "text": [
      "2024-03-12 17:02:53,521 |\u001b[32m INFO     \u001b[0m|: Looking for Artemis Nano Peripheral Device: c0:83:85:6a:10:3c\n",
      "2024-03-12 17:02:56,019 |\u001b[32m INFO     \u001b[0m|: Connected to c0:83:85:6a:10:3c\n"
     ]
    }
   ],
   "source": [
    "# Get ArtemisBLEController object\n",
    "ble = get_ble_controller()\n",
    "\n",
    "# Connect to the Artemis Device\n",
    "ble.connect()"
   ]
  },
  {
   "cell_type": "code",
   "execution_count": 749,
   "id": "6293a393-e5ca-4c47-b8f9-0aa53efd5a7b",
   "metadata": {},
   "outputs": [
    {
     "name": "stdout",
     "output_type": "stream",
     "text": [
      "2024-03-12 17:03:57,277 |\u001b[32m INFO     \u001b[0m|: Disconnected from 7315ECF9-6B84-A5C2-70AD-646152192D8B\n"
     ]
    }
   ],
   "source": [
    "# Disconnect\n",
    "ble.disconnect()"
   ]
  },
  {
   "cell_type": "code",
   "execution_count": null,
   "id": "a5a2891c-9d90-419e-aa72-27e2d093092e",
   "metadata": {},
   "outputs": [],
   "source": [
    "ble.send_command(CMD.ECHO, \"the fitness gram pacer test\")"
   ]
  },
  {
   "cell_type": "code",
   "execution_count": 713,
   "id": "38cbf7f3-32a9-429c-b50d-33e9932084bc",
   "metadata": {},
   "outputs": [],
   "source": [
    "ble.send_command(CMD.ADJUST_PWM_VALS, \"255|160|0.2|0.0|-0.2\")"
   ]
  },
  {
   "cell_type": "code",
   "execution_count": null,
   "id": "453dfb42-465c-449d-a6c7-ddbd46c8919e",
   "metadata": {},
   "outputs": [],
   "source": [
    "ble.send_command(CMD.MOVE_FORWARD_TIMED, \"40|2500\")"
   ]
  },
  {
   "cell_type": "code",
   "execution_count": null,
   "id": "fb025499-c418-4270-b2e7-60eb69c667a8",
   "metadata": {},
   "outputs": [],
   "source": [
    "ble.send_command(CMD.GET_DIST_DATA, \"\")"
   ]
  },
  {
   "cell_type": "code",
   "execution_count": 747,
   "id": "0725af7b-9127-450d-890c-f33f73538bce",
   "metadata": {},
   "outputs": [
    {
     "name": "stdout",
     "output_type": "stream",
     "text": [
      "2024-03-10 17:59:57,051 |\u001b[32m INFO     \u001b[0m|: Disconnected from 7315ECF9-6B84-A5C2-70AD-646152192D8B\n"
     ]
    }
   ],
   "source": [
    "stamped_data.clear()\n",
    "ble.send_command(CMD.PID_TO_WALL, \"304\")"
   ]
  },
  {
   "cell_type": "code",
   "execution_count": 421,
   "id": "95f05dd4-d42d-4e0f-8b2d-763ce2fb89ed",
   "metadata": {},
   "outputs": [
    {
     "name": "stdout",
     "output_type": "stream",
     "text": [
      "r_l_pwm: 76, cur_r_pwm: 48\n"
     ]
    }
   ],
   "source": [
    "ble.send_command(CMD.MOVE_WHEELS_TIMED, \"30|30|2000\")\n",
    "\n",
    "# left 48 right 76 for moving for lab 4\n",
    "\n"
   ]
  },
  {
   "cell_type": "code",
   "execution_count": 426,
   "id": "6ab90cf6-56e2-4aff-9a7a-6d6991a3f791",
   "metadata": {},
   "outputs": [
    {
     "name": "stdout",
     "output_type": "stream",
     "text": [
      "r_l_pwm: 102, cur_r_pwm: 64\n",
      "r_l_pwm: 102, cur_r_pwm: 64\n",
      "r_l_pwm: 178, cur_r_pwm: 112\n"
     ]
    }
   ],
   "source": [
    "# open loop control\n",
    "ble.send_command(CMD.MOVE_FORWARD_TIMED, \"40|2000\")\n",
    "ble.send_command(CMD.BRAKE_MOTORS, \"\")\n",
    "ble.send_command(CMD.MOVE_FORWARD_TIMED, \"-40|2000\")\n",
    "ble.send_command(CMD.BRAKE_MOTORS, \"\")\n",
    "ble.send_command(CMD.MOVE_WHEELS_TIMED, \"-70|70|5000\")"
   ]
  },
  {
   "cell_type": "code",
   "execution_count": 698,
   "id": "71031cde-1a0e-4159-9afa-13b15b9b9e19",
   "metadata": {},
   "outputs": [],
   "source": [
    "def notification_handler(uuid, char_val_array):\n",
    "    str_data = char_val_array.decode()[2:]\n",
    "    print(str_data)\n",
    "\n",
    "ble.start_notify(ble.uuid['RX_STRING'], notification_handler)"
   ]
  },
  {
   "cell_type": "code",
   "execution_count": null,
   "id": "b6a8ffce-55c9-4019-9901-56023f6df870",
   "metadata": {},
   "outputs": [],
   "source": [
    "stamped_data = []\n",
    "\n",
    "def notification_handler(uuid, char_val_array):\n",
    "    str_data = char_val_array.decode()[2:]\n",
    "    data = str_data.split(',')\n",
    "    stamped_data.append(data)\n",
    "\n",
    "ble.start_notify(ble.uuid['RX_STRING'], notification_handler)"
   ]
  },
  {
   "cell_type": "code",
   "execution_count": 664,
   "id": "0c14bdc1-bc77-486c-aedb-aa3fa6716852",
   "metadata": {},
   "outputs": [],
   "source": [
    "stamped_data.clear()\n",
    "ble.send_command(CMD.GET_PID_DATA, \"\")"
   ]
  },
  {
   "cell_type": "code",
   "execution_count": 741,
   "id": "d4d9b79b-0a6a-4f08-a76f-c068a50d3e3c",
   "metadata": {},
   "outputs": [
    {
     "name": "stdout",
     "output_type": "stream",
     "text": [
      "raw data len: 1000\n"
     ]
    }
   ],
   "source": [
    "time_data = []\n",
    "dist0_data = []\n",
    "dist1_data = []\n",
    "vel_data = []\n",
    "for data_list in stamped_data:\n",
    "    assert(len(data_list) >= 1)\n",
    "    time_data.append((int(data_list[0]) - int(stamped_data[0][0])) / 1000.)\n",
    "    dist0_data.append(int(data_list[1]))\n",
    "    dist1_data.append(int(data_list[2]))\n",
    "    vel_data.append(float(data_list[3]))\n",
    "\n",
    "print(\"raw data len: \" + str(len(dist0_data)))"
   ]
  },
  {
   "cell_type": "code",
   "execution_count": 742,
   "id": "227c5280-a0c4-427b-83d8-5789122583b8",
   "metadata": {},
   "outputs": [
    {
     "data": {
      "image/png": "[encoded data removed]",
      "text/plain": [
       "<Figure size 640x480 with 1 Axes>"
      ]
     },
     "metadata": {},
     "output_type": "display_data"
    }
   ],
   "source": [
    "import numpy as np\n",
    "import matplotlib.pyplot as plt\n",
    "from scipy.fftpack import fft\n",
    "\n",
    "time = np.array(time_data)\n",
    "dist0 = np.array(dist0_data)\n",
    "dist1 = np.array(dist1_data)\n",
    "vel = np.array(vel_data)\n",
    "\n",
    "plt.plot(time, dist0, 'r')\n",
    "plt.plot(time, dist1, 'b')\n",
    "plt.plot(time, vel, 'g')\n",
    "plt.ylabel('Distance (mm)')\n",
    "plt.title(\"Distances\")\n",
    "plt.show()"
   ]
  },
  {
   "cell_type": "code",
   "execution_count": 649,
   "id": "2d620265-1880-4801-914d-c4b8557ff346",
   "metadata": {},
   "outputs": [],
   "source": [
    "ble.send_command(CMD.BRAKE_MOTORS, \"\")"
   ]
  },
  {
   "cell_type": "code",
   "execution_count": 356,
   "id": "283bbd18-f8e3-4546-a48d-8b8fdde788a7",
   "metadata": {},
   "outputs": [
    {
     "name": "stdout",
     "output_type": "stream",
     "text": [
      "L_MOTOR_MAX: 255, R_MOTOR_MAX: 180, p_val: 0, i_val: 0, d_val: 0\n"
     ]
    }
   ],
   "source": [
    "s = ble.receive_string(ble.uuid['RX_STRING'])\n",
    "print(s)"
   ]
  },
  {
   "cell_type": "code",
   "execution_count": null,
   "id": "2a37c5fb-da61-4301-8b70-5b43b52f46c0",
   "metadata": {},
   "outputs": [],
   "source": [
    "ble.stop_notify(ble.uuid['RX_STRING'])"
   ]
  },
  {
   "cell_type": "code",
   "execution_count": null,
   "id": "c3bd1bd7-2e40-4bc8-b777-caa0ffd96789",
   "metadata": {},
   "outputs": [],
   "source": []
  }
 ],
 "metadata": {
  "kernelspec": {
   "display_name": "Python 3 (ipykernel)",
   "language": "python",
   "name": "python3"
  },
  "language_info": {
   "codemirror_mode": {
    "name": "ipython",
    "version": 3
   },
   "file_extension": ".py",
   "mimetype": "text/x-python",
   "name": "python",
   "nbconvert_exporter": "python",
   "pygments_lexer": "ipython3",
   "version": "3.11.5"
  }
 },
 "nbformat": 4,
 "nbformat_minor": 5
}
