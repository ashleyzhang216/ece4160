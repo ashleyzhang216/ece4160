{
 "cells": [
  {
   "cell_type": "code",
   "execution_count": null,
   "id": "53a22dd3-eba7-417c-847d-6c5399f79661",
   "metadata": {},
   "outputs": [],
   "source": [
    "%load_ext autoreload\n",
    "%autoreload 2\n",
    "\n",
    "from ble import get_ble_controller\n",
    "from base_ble import LOG\n",
    "from cmd_types import CMD\n",
    "import time\n",
    "import numpy as np\n",
    "import matplotlib.pyplot as plt\n",
    "\n",
    "LOG.propagate = False"
   ]
  },
  {
   "cell_type": "code",
   "execution_count": null,
   "id": "1405ea7f-dad9-4cbf-9b8f-2147c0949736",
   "metadata": {},
   "outputs": [],
   "source": [
    "LOG.debug(\"debug\")\n",
    "LOG.info(\"info\")\n",
    "LOG.warning(\"warning\")\n",
    "LOG.error(\"error\")\n",
    "LOG.critical(\"critical\")"
   ]
  },
  {
   "cell_type": "code",
   "execution_count": 191,
   "id": "4ab2db39-d448-49a5-ab05-aad9a17f91e7",
   "metadata": {},
   "outputs": [
    {
     "name": "stdout",
     "output_type": "stream",
     "text": [
      "2024-03-26 16:40:02,041 |\u001b[32m INFO     \u001b[0m|: Looking for Artemis Nano Peripheral Device: c0:83:85:6a:10:3c\n",
      "2024-03-26 16:40:04,784 |\u001b[32m INFO     \u001b[0m|: Connected to c0:83:85:6a:10:3c\n"
     ]
    }
   ],
   "source": [
    "# Get ArtemisBLEController object\n",
    "ble = get_ble_controller()\n",
    "\n",
    "# Connect to the Artemis Device\n",
    "ble.connect()"
   ]
  },
  {
   "cell_type": "code",
   "execution_count": null,
   "id": "13480eaf-c7ef-49c0-896e-89951043a7ce",
   "metadata": {},
   "outputs": [],
   "source": [
    "# Disconnect\n",
    "ble.disconnect()"
   ]
  },
  {
   "cell_type": "code",
   "execution_count": null,
   "id": "6dbd1142-9ef0-401e-9524-73d8977766b0",
   "metadata": {},
   "outputs": [],
   "source": [
    "ble.send_command(CMD.MOVE_FORWARD_TIMED, \"30|2000\")"
   ]
  },
  {
   "cell_type": "code",
   "execution_count": 192,
   "id": "1e5c64ec-1d65-4313-9364-fda6b8158a35",
   "metadata": {},
   "outputs": [
    {
     "name": "stdout",
     "output_type": "stream",
     "text": [
      "2024-03-26 16:40:15,880 |\u001b[32m INFO     \u001b[0m|: Disconnected from D521BD93-F974-CFE7-133C-181108BA8274\n"
     ]
    }
   ],
   "source": [
    "ble.send_command(CMD.MOVE_WHEELS_TIMED, \"50|0|2000\")\n",
    "\n",
    "# L_min : \n",
    "# R_min : 102"
   ]
  },
  {
   "cell_type": "markdown",
   "id": "2cbf5409-1b12-4074-98aa-be06b0210be0",
   "metadata": {},
   "source": [
    "ble.send_command(CMD.ADJUST_PWM_VALS, \"0|255|0|255|0.2|0.0|-0.2\")\n",
    "\n",
    "# 255|90 works at move forward speed 40"
   ]
  },
  {
   "cell_type": "code",
   "execution_count": null,
   "id": "74128b31-d8b2-433a-9f0a-795e0c3ae405",
   "metadata": {},
   "outputs": [],
   "source": [
    "stamped_data.clear()\n",
    "ble.send_command(CMD.PID_YAW, \"50|50|255|160|0.2|0.0|0.0\")"
   ]
  },
  {
   "cell_type": "code",
   "execution_count": 168,
   "id": "06d762a9-6e14-49b0-b58d-db49de389566",
   "metadata": {},
   "outputs": [],
   "source": [
    "def notification_handler(uuid, char_val_array):\n",
    "    str_data = char_val_array.decode()[2:]\n",
    "    print(str_data)\n",
    "\n",
    "ble.start_notify(ble.uuid['RX_STRING'], notification_handler)"
   ]
  },
  {
   "cell_type": "code",
   "execution_count": null,
   "id": "27044f49-c9d9-4cf1-ae23-77c045ba1918",
   "metadata": {},
   "outputs": [],
   "source": [
    "stamped_data = []\n",
    "\n",
    "def notification_handler(uuid, char_val_array):\n",
    "    str_data = char_val_array.decode()[2:]\n",
    "    data = str_data.split(',')\n",
    "    stamped_data.append(data)\n",
    "\n",
    "ble.start_notify(ble.uuid['RX_STRING'], notification_handler)"
   ]
  },
  {
   "cell_type": "code",
   "execution_count": null,
   "id": "664e7a3b-c01f-4207-9142-6cca897b26e4",
   "metadata": {},
   "outputs": [],
   "source": [
    "time_data = []\n",
    "gyr_data = []\n",
    "yaw_data = []\n",
    "pd_data = []\n",
    "for data_list in stamped_data:\n",
    "    assert(len(data_list) >= 1)\n",
    "    time_data.append((int(data_list[0]) - int(stamped_data[0][0])) / 1000.)\n",
    "    gyr_data.append(float(data_list[1]))\n",
    "    yaw_data.append(float(data_list[2]))\n",
    "    pd_data.append(float(data_list[3]))\n",
    "\n",
    "print(\"raw data len: \" + str(len(time_data)))"
   ]
  },
  {
   "cell_type": "code",
   "execution_count": null,
   "id": "79546106-25b8-4e55-937b-123d0d13caa6",
   "metadata": {},
   "outputs": [],
   "source": [
    "import numpy as np\n",
    "import matplotlib.pyplot as plt\n",
    "from scipy.fftpack import fft\n",
    "\n",
    "time = np.array(time_data)\n",
    "gyr = np.array(gyr_data)\n",
    "yaw = np.array(yaw_data)\n",
    "pd = np.array(pd_data)\n",
    "\n",
    "plt.plot(time, gyr, 'r')\n",
    "plt.plot(time, yaw, 'b')\n",
    "plt.plot(time, pd, 'g')\n",
    "plt.show()"
   ]
  },
  {
   "cell_type": "code",
   "execution_count": null,
   "id": "505b023f-7d4e-40b8-bc9c-23722899800e",
   "metadata": {},
   "outputs": [],
   "source": []
  }
 ],
 "metadata": {
  "kernelspec": {
   "display_name": "Python 3 (ipykernel)",
   "language": "python",
   "name": "python3"
  },
  "language_info": {
   "codemirror_mode": {
    "name": "ipython",
    "version": 3
   },
   "file_extension": ".py",
   "mimetype": "text/x-python",
   "name": "python",
   "nbconvert_exporter": "python",
   "pygments_lexer": "ipython3",
   "version": "3.11.5"
  }
 },
 "nbformat": 4,
 "nbformat_minor": 5
}
