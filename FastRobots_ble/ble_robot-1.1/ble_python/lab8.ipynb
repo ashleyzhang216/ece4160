{
 "cells": [
  {
   "cell_type": "code",
   "execution_count": 2,
   "id": "17ace35c-43d3-43bb-a340-8d6200d5dabb",
   "metadata": {},
   "outputs": [],
   "source": [
    "%load_ext autoreload\n",
    "%autoreload 2\n",
    "\n",
    "from ble import get_ble_controller\n",
    "from base_ble import LOG\n",
    "from cmd_types import CMD\n",
    "import time\n",
    "import numpy as np\n",
    "\n",
    "LOG.propagate = False"
   ]
  },
  {
   "cell_type": "code",
   "execution_count": 18,
   "id": "ff201ccb-bc6d-49d7-9bf0-eec73735853d",
   "metadata": {},
   "outputs": [
    {
     "name": "stdout",
     "output_type": "stream",
     "text": [
      "2024-04-02 17:02:02,939 |\u001b[32m INFO     \u001b[0m|: Looking for Artemis Nano Peripheral Device: c0:07:9d:8d:8c:44\n",
      "2024-04-02 17:02:05,478 |\u001b[32m INFO     \u001b[0m|: Connected to c0:07:9d:8d:8c:44\n"
     ]
    }
   ],
   "source": [
    "# Get ArtemisBLEController object\n",
    "ble = get_ble_controller()\n",
    "\n",
    "# Connect to the Artemis Device\n",
    "ble.connect()\n",
    "\n",
    "# w/o  dongle: 5C-E9-1E-AB-DA-4F\n",
    "# with dongle: 5C-F3-70-A1-60-EA "
   ]
  },
  {
   "cell_type": "code",
   "execution_count": null,
   "id": "aa381a4f-dfd5-4cc7-b88d-68d63f63456b",
   "metadata": {},
   "outputs": [],
   "source": [
    "# Disconnect\n",
    "ble.disconnect()"
   ]
  },
  {
   "cell_type": "code",
   "execution_count": 64,
   "id": "71e96345-a476-4f1e-9cde-1c4a57168625",
   "metadata": {},
   "outputs": [],
   "source": [
    "ble.send_command(CMD.ECHO, \"uhoh\")"
   ]
  },
  {
   "cell_type": "code",
   "execution_count": 20,
   "id": "d43ca9de-a326-4b97-bd4e-b626a8f451c3",
   "metadata": {},
   "outputs": [
    {
     "name": "stdout",
     "output_type": "stream",
     "text": [
      "2024-04-02 17:02:56,865 |\u001b[32m INFO     \u001b[0m|: Disconnected from D521BD93-F974-CFE7-133C-181108BA8274\n"
     ]
    }
   ],
   "source": [
    "# ble.send_command(CMD.MOVE_WHEELS_TIMED, \"40|0|2000\")\n",
    "ble.send_command(CMD.MOVE_WHEELS_TIMED, \"-30|0|2000\")\n",
    "\n",
    "# L_min : \n",
    "# R_min : 102\n",
    "\n",
    "# 2024-04-02 13:49:58,614 | INFO     |: Disconnected from D521BD93-F974-CFE7-133C-181108BA8274"
   ]
  },
  {
   "cell_type": "code",
   "execution_count": null,
   "id": "915ef1d0-c7ec-4016-9048-0f5b463801f4",
   "metadata": {},
   "outputs": [],
   "source": [
    "ble.send_command(CMD.MOVE_WHEELS_TIMED, \"52|20|1000\")\n",
    "ble.send_command(CMD.MOVE_WHEELS_TIMED, \"0|0|1000\")\n",
    "\n",
    "ble.send_command(CMD.MOVE_WHEELS_TIMED, \"-52|-20|1000\")\n",
    "ble.send_command(CMD.MOVE_WHEELS_TIMED, \"0|0|1000\")\n",
    "\n",
    "ble.send_command(CMD.MOVE_WHEELS_TIMED, \"52|-20|2000\")\n",
    "ble.send_command(CMD.MOVE_WHEELS_TIMED, \"0|0|1000\")"
   ]
  },
  {
   "cell_type": "code",
   "execution_count": null,
   "id": "83cbb2d3-2a3a-41ce-a135-587d5620dde1",
   "metadata": {},
   "outputs": [],
   "source": [
    "def notification_handler(uuid, char_val_array):\n",
    "    str_data = char_val_array.decode()[2:]\n",
    "    print(str_data)\n",
    "\n",
    "ble.start_notify(ble.uuid['RX_STRING'], notification_handler)"
   ]
  },
  {
   "cell_type": "code",
   "execution_count": null,
   "id": "970bcdf7-d0e8-4dfe-9b7c-2d36550da3f9",
   "metadata": {},
   "outputs": [],
   "source": []
  },
  {
   "cell_type": "code",
   "execution_count": null,
   "id": "94ac3f34-1b6b-4cea-85d6-3c3bf1206af8",
   "metadata": {},
   "outputs": [],
   "source": []
  }
 ],
 "metadata": {
  "kernelspec": {
   "display_name": "Python 3 (ipykernel)",
   "language": "python",
   "name": "python3"
  },
  "language_info": {
   "codemirror_mode": {
    "name": "ipython",
    "version": 3
   },
   "file_extension": ".py",
   "mimetype": "text/x-python",
   "name": "python",
   "nbconvert_exporter": "python",
   "pygments_lexer": "ipython3",
   "version": "3.11.5"
  }
 },
 "nbformat": 4,
 "nbformat_minor": 5
}
